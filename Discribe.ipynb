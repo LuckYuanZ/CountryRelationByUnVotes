{
 "cells": [
  {
   "cell_type": "code",
   "execution_count": 87,
   "metadata": {},
   "outputs": [],
   "source": [
    "import pandas as pd\n",
    "import numpy as np"
   ]
  },
  {
   "cell_type": "code",
   "execution_count": 88,
   "metadata": {},
   "outputs": [],
   "source": [
    "file_path = r'C:\\Users\\Tingyu\\Desktop\\Python作业\\dataverse_files\\UNVotes-Clean.csv'\n",
    "votes = pd.read_csv(file_path)\n",
    "\n",
    "# drop no member country\n",
    "votes = votes[votes['vote'] != 9]\n",
    "\n",
    "votes['CountrynameCOW'] = votes['CountrynameCOW'].replace('United States of America', 'United States')\n",
    "votes['CountrynameCOW'] = votes['CountrynameCOW'].replace(\"South Korea\", \"Korea, South\")\n",
    "votes['CountrynameCOW'] = votes['CountrynameCOW'].replace(\"North Korea\", \"Korea, North\")\n",
    "votes['CountrynameCOW'] = votes['CountrynameCOW'].replace(\"German Democratic Republic\", 'Germany')\n",
    "votes['CountrynameCOW'] = votes['CountrynameCOW'].replace(\"Myanmar\", 'Burma')\n",
    "votes['CountrynameCOW'] = votes['CountrynameCOW'].replace(\"Yemen People's Republic\", 'Yemen')\n"
   ]
  },
  {
   "cell_type": "code",
   "execution_count": 89,
   "metadata": {},
   "outputs": [
    {
     "name": "stdout",
     "output_type": "stream",
     "text": [
      "['date' 'year' 'rcid' 'resid' 'session' 'ccode' 'Country' 'Countryname'\n",
      " 'CountrynameCOW' 'vote' 'unres' 'yes' 'no' 'abstain' 'amend' 'para'\n",
      " 'importantvote' 'me' 'nu' 'di' 'hr' 'co' 'ec']\n"
     ]
    }
   ],
   "source": [
    "print(votes.columns.values)"
   ]
  },
  {
   "cell_type": "code",
   "execution_count": 90,
   "metadata": {},
   "outputs": [
    {
     "name": "stdout",
     "output_type": "stream",
     "text": [
      "               CountrynameCOW  Yes_vote_ratio\n",
      "CountrynameCOW                               \n",
      "Afghanistan       Afghanistan        0.790281\n",
      "Albania               Albania        0.569028\n",
      "Algeria               Algeria        0.875411\n",
      "Andorra               Andorra        0.642195\n",
      "Angola                 Angola        0.758583\n",
      "...                       ...             ...\n",
      "Venezuela           Venezuela        0.879839\n",
      "Vietnam               Vietnam        0.859770\n",
      "Yemen                   Yemen        0.863029\n",
      "Zambia                 Zambia        0.863039\n",
      "Zimbabwe             Zimbabwe        0.813133\n",
      "\n",
      "[193 rows x 2 columns]\n"
     ]
    }
   ],
   "source": [
    "# Calculate vote 'yes' ratio by country and use a DataFrame to restore the result\n",
    "\n",
    "yes_vote_ratio = votes[votes['vote'] == 1].groupby('CountrynameCOW').size() / votes.groupby('CountrynameCOW').size()\n",
    "result_df = pd.DataFrame({'CountrynameCOW': yes_vote_ratio.index, 'Yes_vote_ratio': yes_vote_ratio})\n",
    "\n",
    "print(result_df)"
   ]
  },
  {
   "cell_type": "code",
   "execution_count": 91,
   "metadata": {},
   "outputs": [],
   "source": [
    "import plotly.graph_objects as go\n",
    "from plotly.offline import iplot\n"
   ]
  },
  {
   "cell_type": "code",
   "execution_count": 92,
   "metadata": {},
   "outputs": [
    {
     "name": "stdout",
     "output_type": "stream",
     "text": [
      "               CountrynameCOW  Yes_vote_ratio CountryCode\n",
      "CountrynameCOW                                           \n",
      "Afghanistan       Afghanistan        0.790281         AFG\n",
      "Albania               Albania        0.569028         ALB\n",
      "Algeria               Algeria        0.875411         DZA\n",
      "Andorra               Andorra        0.642195         AND\n",
      "Angola                 Angola        0.758583         AGO\n",
      "...                       ...             ...         ...\n",
      "Venezuela           Venezuela        0.879839         VEN\n",
      "Vietnam               Vietnam        0.859770         VNM\n",
      "Yemen                   Yemen        0.863029         YEM\n",
      "Zambia                 Zambia        0.863039         ZMB\n",
      "Zimbabwe             Zimbabwe        0.813133         ZWE\n",
      "\n",
      "[179 rows x 3 columns]\n",
      "True\n"
     ]
    }
   ],
   "source": [
    "code_df = pd.read_csv('https://raw.githubusercontent.com/plotly/datasets/master/2014_world_gdp_with_codes.csv')\n",
    "\n",
    "def return_country_code(country):\n",
    "    if country in code_df['COUNTRY'].values:\n",
    "        return code_df[code_df['COUNTRY'] == country]['CODE'].values[0]\n",
    "\n",
    "result_df['CountryCode'] = result_df['CountrynameCOW'].apply(return_country_code)\n",
    "result_df = result_df.dropna(subset=['CountryCode'])\n",
    "\n",
    "print(result_df)\n",
    "\n",
    "is_usa_present = 'USA' in result_df['CountryCode'].values\n",
    "print(is_usa_present)"
   ]
  },
  {
   "cell_type": "code",
   "execution_count": 93,
   "metadata": {},
   "outputs": [
    {
     "data": {
      "application/vnd.plotly.v1+json": {
       "config": {
        "linkText": "Export to plot.ly",
        "plotlyServerURL": "https://plot.ly",
        "showLink": false
       },
       "data": [
        {
         "colorbar": {
          "title": {
           "text": "Yes Vote Ratio"
          }
         },
         "colorscale": [
          [
           0,
           "rgb(255,255,204)"
          ],
          [
           0.125,
           "rgb(255,237,160)"
          ],
          [
           0.25,
           "rgb(254,217,118)"
          ],
          [
           0.375,
           "rgb(254,178,76)"
          ],
          [
           0.5,
           "rgb(253,141,60)"
          ],
          [
           0.625,
           "rgb(252,78,42)"
          ],
          [
           0.75,
           "rgb(227,26,28)"
          ],
          [
           0.875,
           "rgb(189,0,38)"
          ],
          [
           1,
           "rgb(128,0,38)"
          ]
         ],
         "locations": [
          "AFG",
          "ALB",
          "DZA",
          "AND",
          "AGO",
          "ARG",
          "ARM",
          "AUS",
          "AUT",
          "AZE",
          "BHR",
          "BGD",
          "BRB",
          "BLR",
          "BEL",
          "BLZ",
          "BEN",
          "BTN",
          "BOL",
          "BIH",
          "BWA",
          "BRA",
          "BRN",
          "BGR",
          "BFA",
          "MMR",
          "BDI",
          "KHM",
          "CMR",
          "CAN",
          "CAF",
          "TCD",
          "CHL",
          "CHN",
          "COL",
          "COM",
          "CRI",
          "HRV",
          "CUB",
          "CYP",
          "CZE",
          "DNK",
          "DJI",
          "DMA",
          "DOM",
          "ECU",
          "EGY",
          "SLV",
          "GNQ",
          "ERI",
          "EST",
          "ETH",
          "FJI",
          "FIN",
          "FRA",
          "GAB",
          "GEO",
          "DEU",
          "GHA",
          "GRC",
          "GRD",
          "GTM",
          "GIN",
          "GNB",
          "GUY",
          "HTI",
          "HND",
          "HUN",
          "ISL",
          "IND",
          "IDN",
          "IRN",
          "IRQ",
          "IRL",
          "ISR",
          "ITA",
          "JAM",
          "JPN",
          "JOR",
          "KAZ",
          "KEN",
          "KIR",
          "PRK",
          "KOR",
          "KWT",
          "KGZ",
          "LAO",
          "LVA",
          "LBN",
          "LSO",
          "LBR",
          "LBY",
          "LIE",
          "LTU",
          "LUX",
          "MKD",
          "MDG",
          "MWI",
          "MYS",
          "MDV",
          "MLI",
          "MLT",
          "MHL",
          "MRT",
          "MUS",
          "MEX",
          "MDA",
          "MCO",
          "MNG",
          "MNE",
          "MAR",
          "MOZ",
          "NAM",
          "NPL",
          "NLD",
          "NZL",
          "NIC",
          "NER",
          "NGA",
          "NOR",
          "OMN",
          "PAK",
          "PLW",
          "PAN",
          "PNG",
          "PRY",
          "PER",
          "PHL",
          "POL",
          "PRT",
          "QAT",
          "ROU",
          "RUS",
          "RWA",
          "WSM",
          "SMR",
          "STP",
          "SAU",
          "SEN",
          "SYC",
          "SLE",
          "SGP",
          "SVK",
          "SVN",
          "SLB",
          "SOM",
          "ZAF",
          "SSD",
          "ESP",
          "LKA",
          "SDN",
          "SUR",
          "SWZ",
          "SWE",
          "CHE",
          "SYR",
          "TJK",
          "TZA",
          "THA",
          "TGO",
          "TON",
          "TTO",
          "TUN",
          "TUR",
          "TKM",
          "TUV",
          "UGA",
          "UKR",
          "ARE",
          "GBR",
          "USA",
          "URY",
          "UZB",
          "VUT",
          "VEN",
          "VNM",
          "YEM",
          "ZMB",
          "ZWE"
         ],
         "marker": {
          "line": {
           "color": "darkgray",
           "width": 0.5
          }
         },
         "text": [
          "AFG",
          "ALB",
          "DZA",
          "AND",
          "AGO",
          "ARG",
          "ARM",
          "AUS",
          "AUT",
          "AZE",
          "BHR",
          "BGD",
          "BRB",
          "BLR",
          "BEL",
          "BLZ",
          "BEN",
          "BTN",
          "BOL",
          "BIH",
          "BWA",
          "BRA",
          "BRN",
          "BGR",
          "BFA",
          "MMR",
          "BDI",
          "KHM",
          "CMR",
          "CAN",
          "CAF",
          "TCD",
          "CHL",
          "CHN",
          "COL",
          "COM",
          "CRI",
          "HRV",
          "CUB",
          "CYP",
          "CZE",
          "DNK",
          "DJI",
          "DMA",
          "DOM",
          "ECU",
          "EGY",
          "SLV",
          "GNQ",
          "ERI",
          "EST",
          "ETH",
          "FJI",
          "FIN",
          "FRA",
          "GAB",
          "GEO",
          "DEU",
          "GHA",
          "GRC",
          "GRD",
          "GTM",
          "GIN",
          "GNB",
          "GUY",
          "HTI",
          "HND",
          "HUN",
          "ISL",
          "IND",
          "IDN",
          "IRN",
          "IRQ",
          "IRL",
          "ISR",
          "ITA",
          "JAM",
          "JPN",
          "JOR",
          "KAZ",
          "KEN",
          "KIR",
          "PRK",
          "KOR",
          "KWT",
          "KGZ",
          "LAO",
          "LVA",
          "LBN",
          "LSO",
          "LBR",
          "LBY",
          "LIE",
          "LTU",
          "LUX",
          "MKD",
          "MDG",
          "MWI",
          "MYS",
          "MDV",
          "MLI",
          "MLT",
          "MHL",
          "MRT",
          "MUS",
          "MEX",
          "MDA",
          "MCO",
          "MNG",
          "MNE",
          "MAR",
          "MOZ",
          "NAM",
          "NPL",
          "NLD",
          "NZL",
          "NIC",
          "NER",
          "NGA",
          "NOR",
          "OMN",
          "PAK",
          "PLW",
          "PAN",
          "PNG",
          "PRY",
          "PER",
          "PHL",
          "POL",
          "PRT",
          "QAT",
          "ROU",
          "RUS",
          "RWA",
          "WSM",
          "SMR",
          "STP",
          "SAU",
          "SEN",
          "SYC",
          "SLE",
          "SGP",
          "SVK",
          "SVN",
          "SLB",
          "SOM",
          "ZAF",
          "SSD",
          "ESP",
          "LKA",
          "SDN",
          "SUR",
          "SWZ",
          "SWE",
          "CHE",
          "SYR",
          "TJK",
          "TZA",
          "THA",
          "TGO",
          "TON",
          "TTO",
          "TUN",
          "TUR",
          "TKM",
          "TUV",
          "UGA",
          "UKR",
          "ARE",
          "GBR",
          "USA",
          "URY",
          "UZB",
          "VUT",
          "VEN",
          "VNM",
          "YEM",
          "ZMB",
          "ZWE"
         ],
         "type": "choropleth",
         "z": [
          0.7902813299232737,
          0.5690284879474069,
          0.8754110339788089,
          0.6421947449768161,
          0.7585829072315559,
          0.8254200146092038,
          0.7147147147147147,
          0.5905770635500365,
          0.6800584368151936,
          0.8051801801801802,
          0.8772826880934989,
          0.9013878743608473,
          0.8608473338203068,
          0.7702702702702703,
          0.6285609934258582,
          0.8590211833455077,
          0.7929145361577794,
          0.7739225712198685,
          0.8834915997078159,
          0.5574324324324325,
          0.8612125639152666,
          0.8867786705624543,
          0.9006574141709277,
          0.6263696128560994,
          0.8634039444850256,
          0.760409057706355,
          0.6533966398831264,
          0.7699050401753105,
          0.6767713659605552,
          0.5639152666179693,
          0.4806428049671293,
          0.5336011687363039,
          0.9211102994886778,
          0.7991234477720964,
          0.8860482103725347,
          0.6453615777940103,
          0.8845872899926954,
          0.621996996996997,
          0.8093498904309715,
          0.7355734112490869,
          0.6315179606025493,
          0.6398831263696129,
          0.8783783783783784,
          0.5087655222790358,
          0.7925493060628196,
          0.908327246165084,
          0.8425858290723156,
          0.8612125639152666,
          0.3557341124908692,
          0.8095054095826894,
          0.6157779401022644,
          0.8298027757487217,
          0.7710007304601899,
          0.6471877282688093,
          0.5449233016800584,
          0.6822498173849525,
          0.5709459459459459,
          0.629291453615778,
          0.83345507669832,
          0.6406135865595325,
          0.752008765522279,
          0.8509861212563915,
          0.8188458728999269,
          0.6680058436815194,
          0.9116143170197224,
          0.7640613586559533,
          0.8327246165084002,
          0.6183345507669832,
          0.6490138787436085,
          0.7355734112490869,
          0.8911614317019723,
          0.7801314828341855,
          0.6055514974433893,
          0.6811541271000731,
          0.2410518626734843,
          0.6398831263696129,
          0.8988312636961285,
          0.6585098612125639,
          0.879108838568298,
          0.8141891891891891,
          0.8232286340394448,
          0.28101503759398494,
          0.647918188458729,
          0.6234477720964208,
          0.8783783783783784,
          0.6798048048048048,
          0.8115412710007305,
          0.6040905770635501,
          0.8319941563184806,
          0.7531044558071585,
          0.5299488677867056,
          0.8616236162361623,
          0.6716581446311176,
          0.6216216216216216,
          0.6387874360847334,
          0.6384049554781263,
          0.733382030679328,
          0.7220598977355734,
          0.9010226442658875,
          0.91672753834916,
          0.8696128560993426,
          0.7275383491599707,
          0.4419284149013879,
          0.7914536157779402,
          0.8677867056245434,
          0.9013878743608473,
          0.643372578807444,
          0.5950540958268934,
          0.8524470416362309,
          0.6399730820995962,
          0.8747260774287802,
          0.8484295105916727,
          0.8502556610664719,
          0.8871439006574142,
          0.6307523739956172,
          0.7085463842220598,
          0.8440467494521549,
          0.7008765522279036,
          0.8761869978086194,
          0.6439006574141709,
          0.8696128560993426,
          0.7761139517896275,
          0.28015873015873016,
          0.8681519357195033,
          0.7191380569758948,
          0.8593864134404675,
          0.9028487947406866,
          0.9028487947406866,
          0.6263696128560994,
          0.6501095690284879,
          0.8739956172388604,
          0.6241782322863404,
          0.6519357195032871,
          0.4525200876552228,
          0.74981738495252,
          0.6321321321321322,
          0.38531775018261505,
          0.8575602629656683,
          0.8991964937910883,
          0.3915266617969321,
          0.7450693937180424,
          0.8886048210372535,
          0.6400154499806875,
          0.6407657657657657,
          0.7578524470416362,
          0.38093498904309714,
          0.8126369612856099,
          0.2969215491559086,
          0.6482834185536889,
          0.8977355734112491,
          0.8469685902118335,
          0.8133674214755295,
          0.7016070124178232,
          0.6723886048210372,
          0.6434384537131231,
          0.7740366629255518,
          0.6531531531531531,
          0.852081811541271,
          0.9054054054054054,
          0.845872899926954,
          0.506578947368421,
          0.8692476260043828,
          0.8856829802775749,
          0.6917457998539079,
          0.5551801801801802,
          0.5132743362831859,
          0.7257121986851717,
          0.6785975164353543,
          0.8718042366691016,
          0.5383491599707816,
          0.2516435354273192,
          0.8805697589481373,
          0.5668168168168168,
          0.5774287801314828,
          0.8798392987582176,
          0.8597701149425288,
          0.8630289532293987,
          0.8630387143900657,
          0.8131332082551594
         ]
        }
       ],
       "layout": {
        "geo": {
         "projection": {
          "type": "equirectangular"
         },
         "showcoastlines": true,
         "showframe": false
        },
        "template": {
         "data": {
          "bar": [
           {
            "error_x": {
             "color": "#2a3f5f"
            },
            "error_y": {
             "color": "#2a3f5f"
            },
            "marker": {
             "line": {
              "color": "#E5ECF6",
              "width": 0.5
             },
             "pattern": {
              "fillmode": "overlay",
              "size": 10,
              "solidity": 0.2
             }
            },
            "type": "bar"
           }
          ],
          "barpolar": [
           {
            "marker": {
             "line": {
              "color": "#E5ECF6",
              "width": 0.5
             },
             "pattern": {
              "fillmode": "overlay",
              "size": 10,
              "solidity": 0.2
             }
            },
            "type": "barpolar"
           }
          ],
          "carpet": [
           {
            "aaxis": {
             "endlinecolor": "#2a3f5f",
             "gridcolor": "white",
             "linecolor": "white",
             "minorgridcolor": "white",
             "startlinecolor": "#2a3f5f"
            },
            "baxis": {
             "endlinecolor": "#2a3f5f",
             "gridcolor": "white",
             "linecolor": "white",
             "minorgridcolor": "white",
             "startlinecolor": "#2a3f5f"
            },
            "type": "carpet"
           }
          ],
          "choropleth": [
           {
            "colorbar": {
             "outlinewidth": 0,
             "ticks": ""
            },
            "type": "choropleth"
           }
          ],
          "contour": [
           {
            "colorbar": {
             "outlinewidth": 0,
             "ticks": ""
            },
            "colorscale": [
             [
              0,
              "#0d0887"
             ],
             [
              0.1111111111111111,
              "#46039f"
             ],
             [
              0.2222222222222222,
              "#7201a8"
             ],
             [
              0.3333333333333333,
              "#9c179e"
             ],
             [
              0.4444444444444444,
              "#bd3786"
             ],
             [
              0.5555555555555556,
              "#d8576b"
             ],
             [
              0.6666666666666666,
              "#ed7953"
             ],
             [
              0.7777777777777778,
              "#fb9f3a"
             ],
             [
              0.8888888888888888,
              "#fdca26"
             ],
             [
              1,
              "#f0f921"
             ]
            ],
            "type": "contour"
           }
          ],
          "contourcarpet": [
           {
            "colorbar": {
             "outlinewidth": 0,
             "ticks": ""
            },
            "type": "contourcarpet"
           }
          ],
          "heatmap": [
           {
            "colorbar": {
             "outlinewidth": 0,
             "ticks": ""
            },
            "colorscale": [
             [
              0,
              "#0d0887"
             ],
             [
              0.1111111111111111,
              "#46039f"
             ],
             [
              0.2222222222222222,
              "#7201a8"
             ],
             [
              0.3333333333333333,
              "#9c179e"
             ],
             [
              0.4444444444444444,
              "#bd3786"
             ],
             [
              0.5555555555555556,
              "#d8576b"
             ],
             [
              0.6666666666666666,
              "#ed7953"
             ],
             [
              0.7777777777777778,
              "#fb9f3a"
             ],
             [
              0.8888888888888888,
              "#fdca26"
             ],
             [
              1,
              "#f0f921"
             ]
            ],
            "type": "heatmap"
           }
          ],
          "heatmapgl": [
           {
            "colorbar": {
             "outlinewidth": 0,
             "ticks": ""
            },
            "colorscale": [
             [
              0,
              "#0d0887"
             ],
             [
              0.1111111111111111,
              "#46039f"
             ],
             [
              0.2222222222222222,
              "#7201a8"
             ],
             [
              0.3333333333333333,
              "#9c179e"
             ],
             [
              0.4444444444444444,
              "#bd3786"
             ],
             [
              0.5555555555555556,
              "#d8576b"
             ],
             [
              0.6666666666666666,
              "#ed7953"
             ],
             [
              0.7777777777777778,
              "#fb9f3a"
             ],
             [
              0.8888888888888888,
              "#fdca26"
             ],
             [
              1,
              "#f0f921"
             ]
            ],
            "type": "heatmapgl"
           }
          ],
          "histogram": [
           {
            "marker": {
             "pattern": {
              "fillmode": "overlay",
              "size": 10,
              "solidity": 0.2
             }
            },
            "type": "histogram"
           }
          ],
          "histogram2d": [
           {
            "colorbar": {
             "outlinewidth": 0,
             "ticks": ""
            },
            "colorscale": [
             [
              0,
              "#0d0887"
             ],
             [
              0.1111111111111111,
              "#46039f"
             ],
             [
              0.2222222222222222,
              "#7201a8"
             ],
             [
              0.3333333333333333,
              "#9c179e"
             ],
             [
              0.4444444444444444,
              "#bd3786"
             ],
             [
              0.5555555555555556,
              "#d8576b"
             ],
             [
              0.6666666666666666,
              "#ed7953"
             ],
             [
              0.7777777777777778,
              "#fb9f3a"
             ],
             [
              0.8888888888888888,
              "#fdca26"
             ],
             [
              1,
              "#f0f921"
             ]
            ],
            "type": "histogram2d"
           }
          ],
          "histogram2dcontour": [
           {
            "colorbar": {
             "outlinewidth": 0,
             "ticks": ""
            },
            "colorscale": [
             [
              0,
              "#0d0887"
             ],
             [
              0.1111111111111111,
              "#46039f"
             ],
             [
              0.2222222222222222,
              "#7201a8"
             ],
             [
              0.3333333333333333,
              "#9c179e"
             ],
             [
              0.4444444444444444,
              "#bd3786"
             ],
             [
              0.5555555555555556,
              "#d8576b"
             ],
             [
              0.6666666666666666,
              "#ed7953"
             ],
             [
              0.7777777777777778,
              "#fb9f3a"
             ],
             [
              0.8888888888888888,
              "#fdca26"
             ],
             [
              1,
              "#f0f921"
             ]
            ],
            "type": "histogram2dcontour"
           }
          ],
          "mesh3d": [
           {
            "colorbar": {
             "outlinewidth": 0,
             "ticks": ""
            },
            "type": "mesh3d"
           }
          ],
          "parcoords": [
           {
            "line": {
             "colorbar": {
              "outlinewidth": 0,
              "ticks": ""
             }
            },
            "type": "parcoords"
           }
          ],
          "pie": [
           {
            "automargin": true,
            "type": "pie"
           }
          ],
          "scatter": [
           {
            "fillpattern": {
             "fillmode": "overlay",
             "size": 10,
             "solidity": 0.2
            },
            "type": "scatter"
           }
          ],
          "scatter3d": [
           {
            "line": {
             "colorbar": {
              "outlinewidth": 0,
              "ticks": ""
             }
            },
            "marker": {
             "colorbar": {
              "outlinewidth": 0,
              "ticks": ""
             }
            },
            "type": "scatter3d"
           }
          ],
          "scattercarpet": [
           {
            "marker": {
             "colorbar": {
              "outlinewidth": 0,
              "ticks": ""
             }
            },
            "type": "scattercarpet"
           }
          ],
          "scattergeo": [
           {
            "marker": {
             "colorbar": {
              "outlinewidth": 0,
              "ticks": ""
             }
            },
            "type": "scattergeo"
           }
          ],
          "scattergl": [
           {
            "marker": {
             "colorbar": {
              "outlinewidth": 0,
              "ticks": ""
             }
            },
            "type": "scattergl"
           }
          ],
          "scattermapbox": [
           {
            "marker": {
             "colorbar": {
              "outlinewidth": 0,
              "ticks": ""
             }
            },
            "type": "scattermapbox"
           }
          ],
          "scatterpolar": [
           {
            "marker": {
             "colorbar": {
              "outlinewidth": 0,
              "ticks": ""
             }
            },
            "type": "scatterpolar"
           }
          ],
          "scatterpolargl": [
           {
            "marker": {
             "colorbar": {
              "outlinewidth": 0,
              "ticks": ""
             }
            },
            "type": "scatterpolargl"
           }
          ],
          "scatterternary": [
           {
            "marker": {
             "colorbar": {
              "outlinewidth": 0,
              "ticks": ""
             }
            },
            "type": "scatterternary"
           }
          ],
          "surface": [
           {
            "colorbar": {
             "outlinewidth": 0,
             "ticks": ""
            },
            "colorscale": [
             [
              0,
              "#0d0887"
             ],
             [
              0.1111111111111111,
              "#46039f"
             ],
             [
              0.2222222222222222,
              "#7201a8"
             ],
             [
              0.3333333333333333,
              "#9c179e"
             ],
             [
              0.4444444444444444,
              "#bd3786"
             ],
             [
              0.5555555555555556,
              "#d8576b"
             ],
             [
              0.6666666666666666,
              "#ed7953"
             ],
             [
              0.7777777777777778,
              "#fb9f3a"
             ],
             [
              0.8888888888888888,
              "#fdca26"
             ],
             [
              1,
              "#f0f921"
             ]
            ],
            "type": "surface"
           }
          ],
          "table": [
           {
            "cells": {
             "fill": {
              "color": "#EBF0F8"
             },
             "line": {
              "color": "white"
             }
            },
            "header": {
             "fill": {
              "color": "#C8D4E3"
             },
             "line": {
              "color": "white"
             }
            },
            "type": "table"
           }
          ]
         },
         "layout": {
          "annotationdefaults": {
           "arrowcolor": "#2a3f5f",
           "arrowhead": 0,
           "arrowwidth": 1
          },
          "autotypenumbers": "strict",
          "coloraxis": {
           "colorbar": {
            "outlinewidth": 0,
            "ticks": ""
           }
          },
          "colorscale": {
           "diverging": [
            [
             0,
             "#8e0152"
            ],
            [
             0.1,
             "#c51b7d"
            ],
            [
             0.2,
             "#de77ae"
            ],
            [
             0.3,
             "#f1b6da"
            ],
            [
             0.4,
             "#fde0ef"
            ],
            [
             0.5,
             "#f7f7f7"
            ],
            [
             0.6,
             "#e6f5d0"
            ],
            [
             0.7,
             "#b8e186"
            ],
            [
             0.8,
             "#7fbc41"
            ],
            [
             0.9,
             "#4d9221"
            ],
            [
             1,
             "#276419"
            ]
           ],
           "sequential": [
            [
             0,
             "#0d0887"
            ],
            [
             0.1111111111111111,
             "#46039f"
            ],
            [
             0.2222222222222222,
             "#7201a8"
            ],
            [
             0.3333333333333333,
             "#9c179e"
            ],
            [
             0.4444444444444444,
             "#bd3786"
            ],
            [
             0.5555555555555556,
             "#d8576b"
            ],
            [
             0.6666666666666666,
             "#ed7953"
            ],
            [
             0.7777777777777778,
             "#fb9f3a"
            ],
            [
             0.8888888888888888,
             "#fdca26"
            ],
            [
             1,
             "#f0f921"
            ]
           ],
           "sequentialminus": [
            [
             0,
             "#0d0887"
            ],
            [
             0.1111111111111111,
             "#46039f"
            ],
            [
             0.2222222222222222,
             "#7201a8"
            ],
            [
             0.3333333333333333,
             "#9c179e"
            ],
            [
             0.4444444444444444,
             "#bd3786"
            ],
            [
             0.5555555555555556,
             "#d8576b"
            ],
            [
             0.6666666666666666,
             "#ed7953"
            ],
            [
             0.7777777777777778,
             "#fb9f3a"
            ],
            [
             0.8888888888888888,
             "#fdca26"
            ],
            [
             1,
             "#f0f921"
            ]
           ]
          },
          "colorway": [
           "#636efa",
           "#EF553B",
           "#00cc96",
           "#ab63fa",
           "#FFA15A",
           "#19d3f3",
           "#FF6692",
           "#B6E880",
           "#FF97FF",
           "#FECB52"
          ],
          "font": {
           "color": "#2a3f5f"
          },
          "geo": {
           "bgcolor": "white",
           "lakecolor": "white",
           "landcolor": "#E5ECF6",
           "showlakes": true,
           "showland": true,
           "subunitcolor": "white"
          },
          "hoverlabel": {
           "align": "left"
          },
          "hovermode": "closest",
          "mapbox": {
           "style": "light"
          },
          "paper_bgcolor": "white",
          "plot_bgcolor": "#E5ECF6",
          "polar": {
           "angularaxis": {
            "gridcolor": "white",
            "linecolor": "white",
            "ticks": ""
           },
           "bgcolor": "#E5ECF6",
           "radialaxis": {
            "gridcolor": "white",
            "linecolor": "white",
            "ticks": ""
           }
          },
          "scene": {
           "xaxis": {
            "backgroundcolor": "#E5ECF6",
            "gridcolor": "white",
            "gridwidth": 2,
            "linecolor": "white",
            "showbackground": true,
            "ticks": "",
            "zerolinecolor": "white"
           },
           "yaxis": {
            "backgroundcolor": "#E5ECF6",
            "gridcolor": "white",
            "gridwidth": 2,
            "linecolor": "white",
            "showbackground": true,
            "ticks": "",
            "zerolinecolor": "white"
           },
           "zaxis": {
            "backgroundcolor": "#E5ECF6",
            "gridcolor": "white",
            "gridwidth": 2,
            "linecolor": "white",
            "showbackground": true,
            "ticks": "",
            "zerolinecolor": "white"
           }
          },
          "shapedefaults": {
           "line": {
            "color": "#2a3f5f"
           }
          },
          "ternary": {
           "aaxis": {
            "gridcolor": "white",
            "linecolor": "white",
            "ticks": ""
           },
           "baxis": {
            "gridcolor": "white",
            "linecolor": "white",
            "ticks": ""
           },
           "bgcolor": "#E5ECF6",
           "caxis": {
            "gridcolor": "white",
            "linecolor": "white",
            "ticks": ""
           }
          },
          "title": {
           "x": 0.05
          },
          "xaxis": {
           "automargin": true,
           "gridcolor": "white",
           "linecolor": "white",
           "ticks": "",
           "title": {
            "standoff": 15
           },
           "zerolinecolor": "white",
           "zerolinewidth": 2
          },
          "yaxis": {
           "automargin": true,
           "gridcolor": "white",
           "linecolor": "white",
           "ticks": "",
           "title": {
            "standoff": 15
           },
           "zerolinecolor": "white",
           "zerolinewidth": 2
          }
         }
        },
        "title": {
         "text": "Yes Vote Ratio by Country"
        }
       }
      }
     },
     "metadata": {},
     "output_type": "display_data"
    }
   ],
   "source": [
    "# Create data for figure\n",
    "data = [\n",
    "    go.Choropleth(\n",
    "        locations=result_df['CountryCode'],  # Country code column\n",
    "        z=result_df['Yes_vote_ratio'],  # \"Yes\" vote ratio column\n",
    "        text=result_df['CountryCode'],  # Country code column (you can modify it to the country name column if desired)\n",
    "        colorscale='YlOrRd',  # Color scale\n",
    "        marker_line_color='darkgray',  # Border color\n",
    "        marker_line_width=0.5,  # Border width\n",
    "        colorbar_title='Yes Vote Ratio',  # Color bar title\n",
    "    )\n",
    "]\n",
    "\n",
    "# Set layout\n",
    "layout = go.Layout(\n",
    "    title='Yes Vote Ratio by Country',  # Title\n",
    "    geo=dict(\n",
    "        showframe=False,  # Whether to show map frame\n",
    "        showcoastlines=True,  # Whether to show coastlines\n",
    "        projection_type='equirectangular'  # Map projection type\n",
    "    )\n",
    ")\n",
    "\n",
    "# Create figure object\n",
    "fig = go.Figure(data=data, layout=layout)\n",
    "\n",
    "# Display the chart in Jupyter Notebook\n",
    "iplot(fig)"
   ]
  },
  {
   "cell_type": "code",
   "execution_count": 94,
   "metadata": {},
   "outputs": [
    {
     "name": "stdout",
     "output_type": "stream",
     "text": [
      "      Year Country  Yes_vote_ratio\n",
      "0     1991     AAB        0.608108\n",
      "1     1991     AFG        0.864865\n",
      "2     1991     ALB        0.540541\n",
      "3     1991     ALG        0.945946\n",
      "4     1991     ANG        0.716216\n",
      "...    ...     ...             ...\n",
      "5836  2021     VEN        0.822785\n",
      "5837  2021     WSM        0.670886\n",
      "5838  2021     YEM        0.949367\n",
      "5839  2021     ZAM        0.772152\n",
      "5840  2021     ZIM        0.797468\n",
      "\n",
      "[5841 rows x 3 columns]\n"
     ]
    }
   ],
   "source": [
    "# Calculate vote 'yes' ratio by country and by year\n",
    "yes_vote_ratio_byyear = votes[votes['vote'] == 1].groupby(['year', 'Country']).size() / votes.groupby(['year', 'Country']).size()\n",
    "result_df2 = pd.DataFrame({'Year': yes_vote_ratio_byyear.index.get_level_values(0), 'Country': yes_vote_ratio_byyear.index.get_level_values(1), 'Yes_vote_ratio': yes_vote_ratio_byyear.values})\n",
    "\n",
    "print(result_df2)"
   ]
  },
  {
   "cell_type": "code",
   "execution_count": 95,
   "metadata": {},
   "outputs": [
    {
     "data": {
      "image/png": "[encoded data removed]",
      "text/plain": [
       "<Figure size 640x480 with 1 Axes>"
      ]
     },
     "metadata": {},
     "output_type": "display_data"
    }
   ],
   "source": [
    "# Filter data for the five permanent members\n",
    "p5_countries = ['CHN', 'FRN', 'RUS', 'UKG', 'USA']\n",
    "p5_data = result_df2[result_df2['Country'].isin(p5_countries)]\n",
    "\n",
    "# Create the figure and axis\n",
    "fig, ax = plt.subplots()\n",
    "\n",
    "# Plot a line graph for each permanent member\n",
    "for country in p5_countries:\n",
    "    country_data = p5_data[p5_data['Country'] == country]\n",
    "    ax.plot(country_data['Year'], country_data['Yes_vote_ratio'], marker='o', label=country)\n",
    "\n",
    "# Add legend, labels, and title\n",
    "ax.legend()\n",
    "ax.set_xlabel('Year')\n",
    "ax.set_ylabel('Yes Vote Ratio')\n",
    "ax.set_title('Yes Vote Ratio by Year for P5 Countries')\n",
    "\n",
    "# Rotate x-axis labels for better readability\n",
    "plt.xticks(rotation=0)\n",
    "\n",
    "# Display the line graph\n",
    "plt.show()"
   ]
  },
  {
   "cell_type": "code",
   "execution_count": 96,
   "metadata": {},
   "outputs": [
    {
     "name": "stdout",
     "output_type": "stream",
     "text": [
      "   Palestinian conflict  Nuclear weapons  Disarmament  Human Right  \\\n",
      "1              0.739988         0.750412     0.767676     0.651826   \n",
      "\n",
      "   Colonialism  Economic Development  \n",
      "1     0.765607              0.770473  \n"
     ]
    }
   ],
   "source": [
    "# Calculate vote 'yes' ratio by country on specific issue\n",
    "\n",
    "me_ratio = (votes[votes['vote'] == 1].groupby('me').size() / votes[votes['me'] == 1].groupby('me').size()).fillna(0)\n",
    "nu_ratio = (votes[votes['vote'] == 1].groupby('nu').size() / votes[votes['nu'] == 1].groupby('nu').size()).fillna(0)\n",
    "di_ratio = (votes[votes['vote'] == 1].groupby('di').size() / votes[votes['di'] == 1].groupby('di').size()).fillna(0)\n",
    "hr_ratio = (votes[votes['vote'] == 1].groupby('hr').size() / votes[votes['hr'] == 1].groupby('hr').size()).fillna(0)\n",
    "co_ratio = (votes[votes['vote'] == 1].groupby('co').size() / votes[votes['co'] == 1].groupby('co').size()).fillna(0)\n",
    "ec_ratio = (votes[votes['vote'] == 1].groupby('ec').size() / votes[votes['ec'] == 1].groupby('ec').size()).fillna(0)\n",
    "\n",
    "result_df3 = pd.DataFrame({\n",
    "    'Palestinian conflict': me_ratio,\n",
    "    'Nuclear weapons': nu_ratio,\n",
    "    'Disarmament': di_ratio,\n",
    "    'Human Right': hr_ratio,\n",
    "    'Colonialism': co_ratio,\n",
    "    'Economic Development': ec_ratio\n",
    "})\n",
    "\n",
    "result_df3 = result_df3.loc[(result_df3 != 0).any(axis=1)]\n",
    "print(result_df3)\n",
    "\n"
   ]
  },
  {
   "cell_type": "code",
   "execution_count": 97,
   "metadata": {},
   "outputs": [
    {
     "data": {
      "image/png": "[encoded data removed]",
      "text/plain": [
       "<Figure size 640x480 with 1 Axes>"
      ]
     },
     "metadata": {},
     "output_type": "display_data"
    }
   ],
   "source": [
    "import matplotlib.pyplot as plt\n",
    "\n",
    "# turn result_df3 to bar chart\n",
    "bar_width = 0.5\n",
    "\n",
    "topics = result_df3.columns\n",
    "ratios = result_df3.values[0]\n",
    "\n",
    "fig, ax = plt.subplots()\n",
    "bars = ax.bar(topics, ratios, width=bar_width)\n",
    "\n",
    "ax.set_xlabel('Topic')\n",
    "ax.set_ylabel('Yes Vote Ratio')\n",
    "ax.set_title('Yes Vote Ratio by Topic')\n",
    "\n",
    "for bar in bars:\n",
    "    height = bar.get_height()\n",
    "    ax.annotate(f'{height:.2f}', xy=(bar.get_x() + bar.get_width() / 2, height),\n",
    "                xytext=(0, 3), textcoords='offset points',\n",
    "                ha='center', va='bottom')\n",
    "\n",
    "plt.xticks(rotation=45)\n",
    "\n",
    "plt.show()\n"
   ]
  },
  {
   "cell_type": "code",
   "execution_count": null,
   "metadata": {},
   "outputs": [],
   "source": []
  }
 ],
 "metadata": {
  "kernelspec": {
   "display_name": "Python 3",
   "language": "python",
   "name": "python3"
  },
  "language_info": {
   "codemirror_mode": {
    "name": "ipython",
    "version": 3
   },
   "file_extension": ".py",
   "mimetype": "text/x-python",
   "name": "python",
   "nbconvert_exporter": "python",
   "pygments_lexer": "ipython3",
   "version": "3.11.2"
  },
  "orig_nbformat": 4
 },
 "nbformat": 4,
 "nbformat_minor": 2
}
